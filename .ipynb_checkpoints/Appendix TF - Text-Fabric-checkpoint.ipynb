{
 "cells": [
  {
   "cell_type": "markdown",
   "metadata": {},
   "source": [
    "<img align=\"right\" src=\"images/tf.png\" width=\"128\"/>\n",
    "\n",
    "# Appendix TF: Text-Fabric"
   ]
  },
  {
   "cell_type": "markdown",
   "metadata": {},
   "source": [
    "-- *A Python Course for the Humanities by Folgert Karsdorp and Maarten van Gompel*\n",
    "\n",
    "-- this appendix by Dirk Roorda"
   ]
  },
  {
   "cell_type": "markdown",
   "metadata": {},
   "source": [
    "---"
   ]
  },
  {
   "cell_type": "markdown",
   "metadata": {},
   "source": [
    "In this appendix we point you to an approach of radical pre-processing of text corpora.\n",
    "Pre-processing is tedious and time consuming and error prone.\n",
    "It takes the focus away from your original research question. \n",
    "Yet it must be done, otherwise your tools will not work or give suboptimal results.\n",
    "\n",
    "When several researchers fire multiple research questions at the same corpus, they are likely to\n",
    "perform pre-processing steps on their own, geared towards their particular questions.\n",
    "In doing so they duplicate a fair bit of work.\n",
    "\n",
    "Yet it is not easy to prevent that, because input data tends to be messy and research questions almost by\n",
    "definition require new methods and tools. So where is the common ground?\n",
    "\n",
    "## What is Text-Fabric?\n",
    "\n",
    "[Text-Fabric](https://github.com/annotation/text-fabric) is a tool that\n",
    "\n",
    "* defines the\n",
    "  [common ground](https://annotation.github.io/text-fabric/Model/Data-Model/)\n",
    "  by viewing text as a graph whose nodes and edges are annotated by features\n",
    "  (even the text itself is a feature, or several, if there are multiple ways for representing text)\n",
    "* defines a\n",
    "  [file format](https://annotation.github.io/text-fabric/Model/File-formats/)\n",
    "  `.tf` to store individual feature data [efficiently](https://annotation.github.io/text-fabric/Model/Optimizations/)\n",
    "* provides an\n",
    "  [API](https://annotation.github.io/text-fabric/Api/Fabric/)\n",
    "  to access all data in a text in a convenient way, including search by graph templates."
   ]
  },
  {
   "cell_type": "markdown",
   "metadata": {},
   "source": [
    "## TF apps\n",
    "\n",
    "While this is common ground enough for many applications, there is also the concept of *apps*.\n",
    "\n",
    "A [TF-app](https://annotation.github.io/text-fabric/Api/App/)\n",
    "is a bundle of settings and a few implemented functions in which the particulars of a corpus\n",
    "can be defined. Things like the script, the details of text representation, and the online locations of the data.\n",
    "\n",
    "A corpus that is supported by an app can be viewed in the Text-Fabric browser in a way comparable as you view a Jupyter notebook\n",
    "in your browser. If you have done `pip install text-fabric`, you can start up a browser interface on your corpus by e.g.\n",
    "\n",
    "```sh\n",
    "text-fabric dss\n",
    "```\n",
    "\n",
    "In this case you get the `dss` corpus.\n",
    "\n",
    "And inside programs, you can start working with a corpus just like this:\n",
    "\n",
    "```python\n",
    "from tf.app import use\n",
    "\n",
    "A = use('dss')\n",
    "```\n",
    "\n",
    "after which `A` is your handle to all data inside the corpus.\n",
    "\n",
    "The list of\n",
    "[corpora](https://annotation.github.io/text-fabric/About/Corpora/)\n",
    "supported by an app is growing, and you are encouraged to provide an app for your own corpus."
   ]
  },
  {
   "cell_type": "markdown",
   "metadata": {},
   "source": [
    "## Conversion\n",
    "\n",
    "There is a toy 99-word corpus,\n",
    "[banks](https://nbviewer.jupyter.org/github/annotation/banks/blob/master/programs/convert.ipynb)\n",
    "where you can see in detail how you can use TF itself to get your corpus converted to it.\n",
    "\n",
    "The author of TF has used the same method to get the Dead Sea Scrolls, the Quran, and the Old Babylonian Letter corpus into TF.\n",
    "\n",
    "And Ernst Boogert has used it to get the works of\n",
    "[40 church fathers](https://github.com/pthu/patristics)\n",
    "from Perseus into TF."
   ]
  },
  {
   "cell_type": "markdown",
   "metadata": {},
   "source": [
    "## Docs and tutorials\n",
    "\n",
    "If you have followed the links above, you have already landed on the \n",
    "[TF docs](https://annotation.github.io/text-fabric/).\n",
    "\n",
    "There is also a collection of\n",
    "[tutorial notebooks](https://nbviewer.jupyter.org/github/annotation/tutorials/tree/master/)\n",
    "per corpus where you are guided into more and more involved expeditions into these corpora."
   ]
  },
  {
   "cell_type": "markdown",
   "metadata": {},
   "source": [
    "## Sharing data and Open Science\n",
    "\n",
    "A good illustration of how a pos-tagging workflow on an ancient text coud proceed is\n",
    "[posTag](https://nbviewer.jupyter.org/github/annotation/tutorials/blob/master/oldbabylonian/cookbook/posTag.ipynb)\n",
    "where we use rules to identify part-of-speech in Akkadian words.\n",
    "\n",
    "It is a process of stepwise refinement, and much testing, which is why we publish the intermediate results.\n",
    "These results themselves are features for the same underlying graph, and since features are stored in individual files,\n",
    "it is super easy to share them through GitHub.\n",
    "\n",
    "The domain experts can start their TF-browser as follows:\n",
    "\n",
    "```sh\n",
    "text-fabric oldbabylonian --mod=annotation/tutorials/oldbabylonian/cookbook/pos/tf\n",
    "```\n",
    "\n",
    "and can immediately query the data using the features that exist in that location on GitHub.\n",
    "\n",
    "![babex](images/tfbabexample.png)"
   ]
  },
  {
   "cell_type": "markdown",
   "metadata": {},
   "source": [
    "## Development\n",
    "\n",
    "Text-Fabric is being developed actively, in response to researchers' needs.\n",
    "\n",
    "Have a look at the\n",
    "[project and issues](https://github.com/orgs/annotation/projects/1)\n",
    "if you want to take part."
   ]
  }
 ],
 "metadata": {
  "kernelspec": {
   "display_name": "Python 3",
   "language": "python",
   "name": "python3"
  },
  "language_info": {
   "codemirror_mode": {
    "name": "ipython",
    "version": 3
   },
   "file_extension": ".py",
   "mimetype": "text/x-python",
   "name": "python",
   "nbconvert_exporter": "python",
   "pygments_lexer": "ipython3",
   "version": "3.7.2"
  }
 },
 "nbformat": 4,
 "nbformat_minor": 2
}
